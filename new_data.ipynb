{
 "cells": [
  {
   "cell_type": "code",
   "execution_count": null,
   "id": "3610c1fb",
   "metadata": {},
   "outputs": [],
   "source": [
    "from script.requirements import *\n",
    "from datetime import date as data_\n",
    "pd.set_option('display.max_columns', None)"
   ]
  },
  {
   "cell_type": "code",
   "execution_count": null,
   "id": "d610514a",
   "metadata": {},
   "outputs": [],
   "source": [
    "EBAN, RBKP, RSEG, EKPO, EKKO, df_materiali, df_anagraf, EKDS = get_tables(anomaly = False, new = False)\n",
    "material_list = df_materiali['MATNR'].apply(int)\n",
    "\n",
    "# Elenco fatture per evitare duplicati\n",
    "invoices = np.array(RBKP['BELNR']).astype(str)\n",
    "orders = np.unique(EKPO['EBELN']).astype(str)\n",
    "start_date = EBAN['BADAT'].max() + dt.timedelta(days = 1 )\n",
    "end_date = pd.to_datetime(date.today() - dt.timedelta(days= 1 ))\n",
    "\n",
    "# Ordini da generare\n",
    "n_PR = 1000\n",
    "\n",
    "# Array date richieste per metterle in ordine\n",
    "date_purchase_order = []\n",
    "for o in range(n_PR):\n",
    "    date_purchase_order.append(random_dates_business(start_date, end_date))\n",
    "date_purchase_order = np.sort(date_purchase_order)\n",
    "last_PR = int(EBAN['BANFN'].max()) + 1"
   ]
  },
  {
   "cell_type": "code",
   "execution_count": null,
   "id": "c4a2ede9",
   "metadata": {},
   "outputs": [],
   "source": [
    "%run -i \"script/data_generation.py\""
   ]
  },
  {
   "cell_type": "code",
   "execution_count": null,
   "id": "0848ef40",
   "metadata": {},
   "outputs": [],
   "source": [
    "from datetime import date as date_\n",
    "invoice_payment = (date_.today() - dt.timedelta(days=7)).strftime('%Y-%m-%d')"
   ]
  },
  {
   "cell_type": "code",
   "execution_count": null,
   "id": "c11c9dc9",
   "metadata": {},
   "outputs": [],
   "source": [
    "EKKO = pd.DataFrame(df[['WERKS', 'EBELN', 'AEDAT']]).drop_duplicates().reset_index(drop=True)\n",
    "\n",
    "EKPO = pd.DataFrame(df[['WERKS', 'EBELN','EBELP',\n",
    "                        'MATNR', 'MATKL', 'LIFNR', 'RKDST', 'MENGE', 'DELGE', 'MEINS', 'NETPR', 'PEINH',\n",
    "                        'DRDAT', 'LEWED', 'SEDAT', 'LCWED','ITDAT',\n",
    "                        'LOEKE', 'ELIKZ', 'EKNAM', 'EKRNR',\n",
    "                        'BANFN', 'BNFPO',\n",
    "                        'BELNR', 'BUZEI']]).drop_duplicates().reset_index(drop=True)\n",
    "\n",
    "EBAN = pd.DataFrame(df[['WERKS', 'BANFN', 'BNFPO',\n",
    "                        'MATNR', 'MATKL', 'MENGE', 'MEINS', 'NETPR', 'PEINH',\n",
    "                        'BADAT', 'FRGDT',\n",
    "                        'LOEKZ', 'ERNAM', 'PERNR',\n",
    "                        'EBELN', 'EBELP']])\n",
    "EBAN = EBAN.drop(EBAN.loc[EBAN['BADAT'].isnull()].index).reset_index(drop=True)\n",
    "\n",
    "RBKP = pd.DataFrame(df[['WERKS', 'BELNR',\n",
    "                        'BLDAT','BUDAT','BPDAT',\n",
    "                        'EREKZ','LIFNR']]).drop_duplicates().reset_index(drop=True)\n",
    "\n",
    "RBKP['BLOCK'] = pd.NaT\n",
    "RBKP['RLOCK'] = pd.NaT\n",
    "\n",
    "RSEG = pd.DataFrame(df[['WERKS', 'BELNR','BUZEI',\n",
    "                        'MATNR', 'MATKL', 'MENGE', 'MEINS', 'NETPR', 'PEINH',\n",
    "                        'EBELN','EBELP']]).reset_index(drop=True)\n",
    "\n",
    "MARA = pd.DataFrame(df_materiali[['MATNR', 'MATKL' ,'MEINS', 'NETPR','PEINH','RKDST', 'PLIFZ', 'LIFNR', 'NAME1', 'PLICZ']]).reset_index(drop=True)\n",
    "\n",
    "P0002 = pd.DataFrame(df_anagraf[['PERNR', 'ERNAM', 'NAME2', 'NACHN', 'EMAIL', 'WERKS', 'MATKL', 'USERT']]).reset_index(drop=True)\n",
    "P0002['ERNAM'] = P0002['ERNAM'].astype(str)\n",
    "\n",
    "EKDS = pd.DataFrame(columns = ['EBELN', 'EBELP', 'UDATE', 'FIELD', 'VALUE'])\n",
    "\n",
    "EBAN.loc[EBAN['WERKS'] == 'BR10', 'LAND1'] = 'BR'\n",
    "EBAN.loc[EBAN['WERKS'] == 'IN10', 'LAND1'] = 'IN'\n",
    "EBAN.loc[EBAN['WERKS'] == 'US10', 'LAND1'] = 'US'\n",
    "EBAN.loc[EBAN['WERKS'] == 'JP11', 'LAND1'] = 'JP'\n",
    "EBAN.loc[EBAN['WERKS'] == 'DE10', 'LAND1'] = 'DE'\n",
    "EBAN.loc[EBAN['WERKS'] == 'CN10', 'LAND1'] = 'CN'"
   ]
  },
  {
   "cell_type": "code",
   "execution_count": null,
   "id": "ad9ed34f",
   "metadata": {},
   "outputs": [],
   "source": [
    "EKPO.to_csv('data/latest_tab/NEW/EKPO.csv', index=False)\n",
    "RBKP.to_csv('data/latest_tab/NEW/RBKP.csv', index=False)\n",
    "EKKO.to_csv('data/latest_tab/NEW/EKKO.csv', index=False)\n",
    "RSEG.to_csv('data/latest_tab/NEW/RSEG.csv', index=False)\n",
    "EBAN.to_csv('data/latest_tab/NEW/EBAN.csv', index=False)\n",
    "EKDS.to_csv('data/latest_tab/NEW/EKDS.csv', index=False)"
   ]
  },
  {
   "cell_type": "code",
   "execution_count": null,
   "id": "04d66efe",
   "metadata": {},
   "outputs": [],
   "source": [
    "EBAN, RBKP, RSEG, EKPO, EKKO, _, _, EKDS = get_tables(anomaly = False, new = True)\n",
    "%run -i \"script/script_errori.py\"\n",
    "\n",
    "RBKP.loc[RBKP.BLDAT > invoice_payment, ['BPDAT', 'EREKZ']] = np.NaN\n",
    "\n",
    "EKPO.to_csv('data/latest_tab/NEW/EKPO.csv', index=False)\n",
    "EKDS.to_csv('data/latest_tab/NEW/EKDS.csv', index=False)\n",
    "RBKP.to_csv('data/latest_tab/NEW/RBKP.csv', index=False)\n",
    "EKKO.to_csv('data/latest_tab/NEW/EKKO.csv', index=False)\n",
    "RSEG.to_csv('data/latest_tab/NEW/RSEG.csv', index=False)\n",
    "EBAN.to_csv('data/latest_tab/NEW/EBAN.csv', index=False)"
   ]
  },
  {
   "cell_type": "code",
   "execution_count": null,
   "id": "20548c97",
   "metadata": {},
   "outputs": [],
   "source": [
    "EBAN_old, RBKP_old, RSEG_old, EKPO_old, EKKO_old, _, _, EKDS_old = get_tables(anomaly = False, new = False)"
   ]
  },
  {
   "cell_type": "code",
   "execution_count": null,
   "id": "602e17f3",
   "metadata": {},
   "outputs": [],
   "source": [
    "EBAN = pd.concat([EBAN_old, EBAN]).reset_index(drop = True)\n",
    "RBKP = pd.concat([RBKP_old, RBKP]).reset_index(drop = True)\n",
    "RSEG = pd.concat([RSEG_old, RSEG]).reset_index(drop = True)\n",
    "EKPO = pd.concat([EKPO_old, EKPO]).reset_index(drop = True)\n",
    "EKKO = pd.concat([EKKO_old, EKKO]).reset_index(drop = True)\n",
    "EKDS = pd.concat([EKDS_old, EKDS]).reset_index(drop = True)"
   ]
  },
  {
   "cell_type": "code",
   "execution_count": null,
   "id": "6019a910",
   "metadata": {},
   "outputs": [],
   "source": [
    "EBAN.to_csv('data/latest_tab/EBAN.csv', index=False)\n",
    "EKPO.to_csv('data/latest_tab/EKPO.csv', index=False)\n",
    "RSEG.to_csv('data/latest_tab/RSEG.csv', index=False)\n",
    "EKDS.to_csv('data/latest_tab/EKDS.csv', index=False)\n",
    "RBKP.to_csv('data/latest_tab/RBKP.csv', index=False)\n",
    "EKKO.to_csv('data/latest_tab/EKKO.csv', index=False)"
   ]
  },
  {
   "cell_type": "code",
   "execution_count": null,
   "id": "7ed4e56a",
   "metadata": {},
   "outputs": [],
   "source": [
    "today = (date.today() - dt.timedelta(days=1)).strftime('%Y-%m-%d')\n",
    "EBAN.loc[EBAN.BADAT > today, 'BADAT'] = pd.NaT\n",
    "EBAN.loc[EBAN.FRGDT > today, 'FRGDT'] = pd.NaT\n",
    "\n",
    "EKKO.loc[EKKO.AEDAT > today, 'AEDAT'] = pd.NaT\n",
    "EKPO.loc[EKPO.ITDAT > today, 'ELIKZ'] = ' '\n",
    "EKPO.loc[EKPO.DRDAT > today, 'DRDAT'] = pd.NaT\n",
    "EKPO.loc[EKPO.LEWED > today, 'LEWED'] = pd.NaT\n",
    "EKPO.loc[EKPO.SEDAT > today, 'SEDAT'] = pd.NaT\n",
    "EKPO.loc[EKPO.LCWED > today, 'LCWED'] = pd.NaT\n",
    "EKPO.loc[EKPO.ITDAT > today, 'ITDAT'] = pd.NaT\n",
    "\n",
    "RBKP.loc[RBKP.BPDAT > today, 'EREKZ'] = ' '\n",
    "RBKP.loc[RBKP.BLDAT > today, ['BLDAT', 'BUDAT']] = pd.NaT\n",
    "# RBKP.loc[RBKP.BUDAT > today, 'BUDAT'] = pd.NaT\n",
    "RBKP.loc[RBKP.BPDAT > today, 'BPDAT'] = pd.NaT\n",
    "RBKP.loc[RBKP.BLOCK > today, 'BLOCK'] = pd.NaT\n",
    "RBKP.loc[RBKP.RLOCK > today, 'RLOCK'] = pd.NaT\n",
    "\n",
    "EKDS.loc[EKDS.UDATE > today, 'UDATE'] = pd.NaT"
   ]
  },
  {
   "cell_type": "code",
   "execution_count": null,
   "id": "c554fde0",
   "metadata": {},
   "outputs": [],
   "source": [
    "data_pool.create_table(df=EKPO, table_name=\"EKPO\", drop_if_exists=True, force = True)\n",
    "data_pool.create_table(df=RSEG, table_name=\"RSEG\", drop_if_exists=True, force = True)\n",
    "data_pool.create_table(df=EBAN, table_name=\"EBAN\", drop_if_exists=True, force = True)\n",
    "data_pool.create_table(df=EKDS, table_name=\"EKDS\", drop_if_exists=True, force = True)\n",
    "data_pool.create_table(df=RBKP, table_name=\"RBKP\", drop_if_exists=True, force = True)\n",
    "data_pool.create_table(df=EKKO, table_name=\"EKKO\", drop_if_exists=True, force = True)"
   ]
  }
 ],
 "metadata": {
  "kernelspec": {
   "display_name": "Python 3 (ipykernel)",
   "language": "python",
   "name": "python3"
  },
  "language_info": {
   "codemirror_mode": {
    "name": "ipython",
    "version": 3
   },
   "file_extension": ".py",
   "mimetype": "text/x-python",
   "name": "python",
   "nbconvert_exporter": "python",
   "pygments_lexer": "ipython3",
   "version": "3.9.13"
  }
 },
 "nbformat": 4,
 "nbformat_minor": 5
}
