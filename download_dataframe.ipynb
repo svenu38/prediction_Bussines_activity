{
 "cells": [
  {
   "cell_type": "code",
   "execution_count": null,
   "metadata": {},
   "outputs": [],
   "source": [
    "from script.requirements import *\n",
    "from datetime import date\n",
    "from pycelonis.pql import PQL, PQLColumn, PQLFilter, OrderByColumn\n",
    "import pm4py"
   ]
  },
  {
   "cell_type": "code",
   "execution_count": null,
   "metadata": {},
   "outputs": [],
   "source": [
    "data_model = data_pool.get_data_models().find(\"xxx\")"
   ]
  },
  {
   "cell_type": "code",
   "execution_count": null,
   "metadata": {},
   "outputs": [],
   "source": [
    "query = PQL(distinct=False, limit=None, offset=None)\n",
    "query += PQLColumn(name=\"_CASE_KEY\", query=\"\"\" \"_CEL_MERGED_ACTIVITIES\".\"CASE_ID\" \"\"\")\n",
    "query += PQLColumn(name=\"WERKS\", query=\"\"\" \"_CEL_MERGED_ACTIVITIES\".\"WERKS\" \"\"\")\n",
    "query += PQLColumn(name=\"EBELN\", query=\"\"\" \"_CEL_MERGED_ACTIVITIES\".\"EBELN\" \"\"\")\n",
    "query += PQLColumn(name=\"EBELP\", query=\"\"\" \"_CEL_MERGED_ACTIVITIES\".\"EBELP\" \"\"\")\n",
    "query += PQLColumn(name=\"ACTIVITY_EN\", query=\"\"\" \"_CEL_MERGED_ACTIVITIES\".\"ACTIVITY\" \"\"\")\n",
    "query += PQLColumn(name=\"EVENTTIME\", query=\"\"\" \"_CEL_MERGED_ACTIVITIES\".\"TIMESTAMP\" \"\"\")\n",
    "query += PQLColumn(name=\"_SORTING\", query=\"\"\" \"_CEL_MERGED_ACTIVITIES\".\"_SORTING\" \"\"\")\n",
    "query += PQLColumn(name=\"USER_NAME\", query=\"\"\" \"_CEL_MERGED_ACTIVITIES\".\"USER_NAME\" \"\"\")\n",
    "query += PQLColumn(name=\"RKDST\", query=\"\"\" \"MARA\".\"RKDST\" \"\"\")\n",
    "query += PQLColumn(name=\"NAME1\", query=\"\"\" \"MARA\".\"NAME1\" \"\"\")\n",
    "query += PQLColumn(name=\"ELIKZ\", query=\"\"\" \"EKPO\".\"ELIKZ\" \"\"\")\n",
    "query += PQLColumn(name=\"MATNR\", query=\"\"\" \"EKPO\".\"MATNR\" \"\"\")\n",
    "query += PQLColumn(name=\"MATKL\", query=\"\"\" \"EKPO\".\"MATKL\" \"\"\")\n",
    "query += PQLColumn(name=\"MENGE\", query=\"\"\" \"EKPO\".\"MENGE\" \"\"\")\n",
    "query += PQLColumn(name=\"DELGE\", query=\"\"\" \"EKPO\".\"DELGE\" \"\"\")\n",
    "query += PQLColumn(name=\"NETPR\", query=\"\"\" \"EKPO\".\"NETPR\" \"\"\")\n",
    "\n",
    "query += PQLColumn(name=\"MAVPR\", query=\"\"\" CASE WHEN\n",
    "\"MARA\".\"RKDST\" = 'x' AND\n",
    "PROCESS ON \"_CEL_MERGED_ACTIVITIES\".\"ACTIVITY\" EQUALS\n",
    "'Create Purchase Requisition Item' TO 'Purchase Requisition Item: Rejected' TO 'Create Purchase Order Item' THEN 1\n",
    "\n",
    "WHEN\n",
    "\"MARA\".\"RKDST\" = 'x' AND\n",
    "\"EBAN\".\"EBELN\" IS NULL THEN 1\n",
    "\n",
    "WHEN\n",
    "PROCESS ON \"_CEL_MERGED_ACTIVITIES\".\"ACTIVITY\" EQUALS\n",
    "'Create Purchase Order Item' TO 'Purchase Order Item: Rejected' TO 'Purchase Order Item: Sent to Vendor' THEN 1\n",
    "\n",
    "WHEN\n",
    "PROCESS ON \"_CEL_MERGED_ACTIVITIES\".\"ACTIVITY\" EQUALS\n",
    "'Purchase Order Item: Sent to Vendor' TO ANY TO 'Change Quantity' THEN 1\n",
    "\n",
    "WHEN\n",
    "PROCESS ON \"_CEL_MERGED_ACTIVITIES\".\"ACTIVITY\" EQUALS\n",
    "'Purchase Order Item: Sent to Vendor' TO ANY TO 'Change Price' THEN 1\n",
    "\n",
    "ELSE NULL END \"\"\")\n",
    "\n",
    "query += PQLColumn(name=\"THWMS\", query=\"\"\" CASE WHEN \n",
    "\"RSEG\".\"EBELN\" IS NOT NULL AND\n",
    "\"RSEG\".\"MENGE\" = \"EKPO\".\"MENGE\" AND\n",
    "\"RSEG\".\"MENGE\" = \"EKPO\".\"DELGE\" AND\n",
    "\"EKPO\".\"MENGE\" = \"EKPO\".\"DELGE\" AND \n",
    "\"RSEG\".\"NETPR\"=\"EKPO\".\"NETPR\" THEN NULL\n",
    "WHEN\n",
    "\"RSEG\".\"EBELN\" IS NULL\n",
    "THEN NULL\n",
    "ELSE 1 END \"\"\")\n",
    "\n",
    "query += PQLColumn(name=\"LATES\", query=\"\"\" CASE WHEN\n",
    "PROCESS ON \"_CEL_MERGED_ACTIVITIES\".\"ACTIVITY\" EQUALS 'Late Shipment' THEN 1 ELSE 0 END \"\"\")\n",
    "\n",
    "query += PQLColumn(name=\"LATED\", query=\"\"\" CASE WHEN\n",
    "PROCESS ON \"_CEL_MERGED_ACTIVITIES\".\"ACTIVITY\" EQUALS 'Late Delivery' THEN 1 ELSE 0 END \"\"\")\n",
    "\n",
    "query += PQLColumn(name=\"LATEP\", query=\"\"\" CASE WHEN \n",
    "\"RBKP\".\"BPDAT\">\"RBKP\".\"BUDAT\" THEN\n",
    "1\n",
    "\n",
    "WHEN\n",
    "\"RBKP\".\"BPDAT\" IS NULL AND\n",
    "\"RBKP\".\"BUDAT\" < TODAY() THEN\n",
    "1\n",
    "\n",
    "ELSE NULL END \"\"\")\n",
    "\n",
    "query += PQLFilter(query=\"\"\" FILTER ( \"EKPO\".\"ELIKZ\" ='x' and \"RBKP\".\"EREKZ\" ='x') \"\"\")\n",
    "#query += PQLFilter(query=\"\"\" FILTER ( \"EKPO\".\"ELIKZ\" IS NULL ) \"\"\")\n",
    "\n",
    "result_df = data_model.export_data_frame(query)\n",
    "result_df.to_csv('df_completed_order.csv', index = False)"
   ]
  }
 ],
 "metadata": {
  "kernelspec": {
   "display_name": "Python 3",
   "language": "python",
   "name": "python3"
  },
  "language_info": {
   "codemirror_mode": {
    "name": "ipython",
    "version": 3
   },
   "file_extension": ".py",
   "mimetype": "text/x-python",
   "name": "python",
   "nbconvert_exporter": "python",
   "pygments_lexer": "ipython3",
   "version": "3.11.0"
  },
  "orig_nbformat": 4
 },
 "nbformat": 4,
 "nbformat_minor": 2
}
