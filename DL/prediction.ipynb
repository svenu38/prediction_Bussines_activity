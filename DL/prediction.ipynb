{
 "cells": [
  {
   "cell_type": "markdown",
   "metadata": {},
   "source": [
    "# Next step prediction"
   ]
  },
  {
   "cell_type": "code",
   "execution_count": null,
   "metadata": {},
   "outputs": [],
   "source": [
    "%run -i ../script/requirements.py\n",
    "%run -i ../script/requirements_dll.py\n",
    "%matplotlib inline"
   ]
  },
  {
   "cell_type": "markdown",
   "metadata": {},
   "source": [
    "## Preprocessing"
   ]
  },
  {
   "cell_type": "code",
   "execution_count": null,
   "metadata": {},
   "outputs": [],
   "source": [
    "df = pd.read_csv('../df_completed_order.csv', dtype = {'_CASE_KEY' : str, 'WERKS' : str, 'EBELN' : str, 'EBELP': str, 'ACTIVITY_EN': str, '_SORTING' : int, 'USER_NAME': str})\n",
    "df['EVENTTIME'] = pd.to_datetime(df['EVENTTIME'])\n",
    "df = df.rename(columns={'_CASE_KEY' : 'case:concept:name',\n",
    "                       'ACTIVITY_EN' : 'concept:name',\n",
    "                       'EVENTTIME' : 'time:timestamp'})\n",
    "df.loc[df['RKDST'].isnull(), 'RKDST'] = 0\n",
    "df.loc[df['RKDST'] == 'x', 'RKDST'] = 1\n",
    "df.loc[df['MAVPR'].isnull(), 'MAVPR'] = 0\n",
    "df.loc[df['THWMS'].isnull(), 'THWMS'] = 0\n",
    "df.loc[df['LATEP'].isnull(), 'LATEP'] = 0\n",
    "df['MAVPR'] = df['MAVPR'].astype(int)\n",
    "df['THWMS'] = df['THWMS'].astype(int)\n",
    "df['LATEP'] = df['LATEP'].astype(int)\n",
    "\n",
    "sc_sorting = StandardScaler()\n",
    "df['_SORTING'] = sc_sorting.fit_transform(np.array(df['_SORTING']).reshape(-1, 1))\n",
    "df = df.sort_values(by = ['WERKS', 'EBELN', 'EBELP'])\n",
    "\n",
    "df = df.loc[df['concept:name'] != 'Late Shipment'].sort_values(by = ['WERKS','EBELN', 'EBELP', 'time:timestamp', '_SORTING'])\n",
    "df = df.loc[df['concept:name'] != 'Late Delivery'].sort_values(by = ['WERKS','EBELN', 'EBELP', 'time:timestamp', '_SORTING'])\n",
    "df = df.loc[df['concept:name'] != 'Due Date passed'].sort_values(by = ['WERKS','EBELN', 'EBELP', 'time:timestamp', '_SORTING'])\n",
    "#df = df.drop(columns=['ELIKZ'])\n",
    "df = df.reset_index(drop= True)\n",
    "\n",
    "n_act, onehot_encoder_act = one_hot_column(df['concept:name'])\n",
    "n_wer, onehot_encoder_wer = one_hot_column(df['WERKS'])\n",
    "n_nam, onehot_encoder_nam = one_hot_column(df['NAME1'])\n",
    "n_mag, onehot_encoder_mag = one_hot_column(df['MATKL'])\n",
    "n_mat, onehot_encoder_mat = one_hot_column(df['MATNR'])\n",
    "\n",
    "# Time\n",
    "A = [d.date() for d in df['time:timestamp']]\n",
    "B = [d.date() for d in df['time:timestamp'].shift(-1)]\n",
    "B[-1] = B[-2]\n",
    "df['time:diff'] = np.busday_count(A, B)\n",
    "df['time:diff'] = df['time:diff'].shift(1)\n",
    "df.loc[0, 'time:diff'] = 0\n",
    "idx = df.reset_index().groupby('case:concept:name')['index'].first().values\n",
    "df.loc[df.index.isin(idx), 'time:diff'] = 0\n",
    "sc = StandardScaler()\n",
    "df['time:diff'] = sc.fit_transform(np.array(df['time:diff']).reshape(-1, 1))\n",
    "df['concept:name'] = df.groupby('case:concept:name')['concept:name'].transform(lambda x: ','.join(x))\n",
    "df['time:diff'] = df['time:diff'].astype(str)\n",
    "df['time:diff'] = df.groupby('case:concept:name')['time:diff'].transform(lambda x: ','.join(x))\n",
    "df['_SORTING'] = df['_SORTING'].astype(str)\n",
    "df['_SORTING'] = df.groupby('case:concept:name')['_SORTING'].transform(lambda x: ','.join(x))\n"
   ]
  },
  {
   "cell_type": "code",
   "execution_count": null,
   "metadata": {},
   "outputs": [],
   "source": [
    "df = pd.read_csv('../df_incompleted_order.csv', dtype = {'_CASE_KEY' : str, 'WERKS' : str, 'EBELN' : str, 'EBELP': str, 'ACTIVITY_EN': str, '_SORTING' : int, 'USER_NAME': str})\n",
    "df['EVENTTIME'] = pd.to_datetime(df['EVENTTIME'])\n",
    "df = df.rename(columns={'_CASE_KEY' : 'case:concept:name',\n",
    "                       'ACTIVITY_EN' : 'concept:name',\n",
    "                       'EVENTTIME' : 'time:timestamp'})\n",
    "df.loc[df['RKDST'].isnull(), 'RKDST'] = 0\n",
    "df.loc[df['RKDST'] == 'x', 'RKDST'] = 1\n",
    "df.loc[df['MAVPR'].isnull(), 'MAVPR'] = 0\n",
    "df.loc[df['THWMS'].isnull(), 'THWMS'] = 0\n",
    "df.loc[df['LATEP'].isnull(), 'LATEP'] = 0\n",
    "df['MAVPR'] = df['MAVPR'].astype(int)\n",
    "df['THWMS'] = df['THWMS'].astype(int)\n",
    "df['LATEP'] = df['LATEP'].astype(int)\n",
    "\n",
    "df['_SORTING'] = sc_sorting.transform(np.array(df['_SORTING']).reshape(-1, 1))\n",
    "df = df.sort_values(by = ['WERKS', 'EBELN', 'EBELP'])\n",
    "\n",
    "df = df.loc[df['concept:name'] != 'Late Shipment'].sort_values(by = ['WERKS','EBELN', 'EBELP', 'time:timestamp', '_SORTING'])\n",
    "df = df.loc[df['concept:name'] != 'Late Delivery'].sort_values(by = ['WERKS','EBELN', 'EBELP', 'time:timestamp', '_SORTING'])\n",
    "df = df.loc[df['concept:name'] != 'Due Date passed'].sort_values(by = ['WERKS','EBELN', 'EBELP', 'time:timestamp', '_SORTING'])\n",
    "df = df.reset_index(drop= True)\n",
    "\n",
    "# Time\n",
    "A = [d.date() for d in df['time:timestamp']]\n",
    "B = [d.date() for d in df['time:timestamp'].shift(-1)]\n",
    "B[-1] = B[-2]\n",
    "df['time:diff'] = np.busday_count(A, B)\n",
    "df['time:diff'] = df['time:diff'].shift(1)\n",
    "df.loc[0, 'time:diff'] = 0\n",
    "idx = df.reset_index().groupby('case:concept:name')['index'].first().values\n",
    "df.loc[df.index.isin(idx), 'time:diff'] = 0\n",
    "df['time:diff'] = sc.transform(np.array(df['time:diff']).reshape(-1, 1))\n",
    "df['concept:name'] = df.groupby('case:concept:name')['concept:name'].transform(lambda x: ','.join(x))\n",
    "df['time:diff'] = df['time:diff'].astype(str)\n",
    "df['time:diff'] = df.groupby('case:concept:name')['time:diff'].transform(lambda x: ','.join(x))\n",
    "df['_SORTING'] = df['_SORTING'].astype(str)\n",
    "df['_SORTING'] = df.groupby('case:concept:name')['_SORTING'].transform(lambda x: ','.join(x))\n",
    "\n",
    "df = df[['case:concept:name', 'concept:name', 'RKDST', 'WERKS', 'time:diff', 'NAME1', 'MATKL', 'MATNR', 'MAVPR', 'THWMS', 'LATES','LATED','LATEP', '_SORTING']].drop_duplicates().reset_index(drop = True)\n",
    "\n",
    "traces= []\n",
    "diff_time = []\n",
    "sorting = []\n",
    "for q in range(len(df)):\n",
    "    string = np.array(df.loc[q, 'concept:name'].split(','),dtype = str).reshape(-1,1)\n",
    "    onehot_encoded = onehot_encoder_act.transform(string)\n",
    "    traces.append(onehot_encoded)\n",
    "    diff_time.append(np.array(df.loc[q, 'time:diff'].split(','),dtype = float))\n",
    "    sorting.append(np.array(df.loc[q, '_SORTING'].split(','),dtype = float))\n",
    "print('Traccie: ',len(traces))\n",
    "\n",
    "rda = df['RKDST']\n",
    "werks_bef = df['WERKS']\n",
    "name1_bef = df['NAME1']\n",
    "matkl_bef = df['MATKL']\n",
    "matnr_bef = df['MATNR']\n",
    "mavp = df['MAVPR']\n",
    "twms = df['THWMS']\n",
    "lates = df['LATES']\n",
    "lated = df['LATED']\n",
    "latep = df['LATEP']\n",
    "\n",
    "werks = onehot_encoder_wer.transform(np.array(werks_bef).reshape(-1, 1))\n",
    "name1 = onehot_encoder_nam.transform(np.array(name1_bef).reshape(-1, 1))\n",
    "matkl = onehot_encoder_mag.transform(np.array(matkl_bef).reshape(-1, 1))\n",
    "matnr = onehot_encoder_mat.transform(np.array(matnr_bef).reshape(-1, 1))\n",
    "\n",
    "## RDA\n",
    "for l in range(len(traces)):\n",
    "    to_app = np.array([[rda[l]] * len(traces[l])]).reshape(len(traces[l]), 1)\n",
    "    traces[l] = np.append(traces[l], to_app, axis = 1)\n",
    "# WERKS\n",
    "for l in range(len(traces)):\n",
    "    to_app = np.array([[werks[l]] * len(traces[l])]).reshape(len(traces[l]), n_wer)\n",
    "    traces[l] = np.append(traces[l], to_app, axis = 1)\n",
    "# NAME1\n",
    "for l in range(len(traces)):\n",
    "    to_app = np.array([[name1[l]] * len(traces[l])]).reshape(len(traces[l]), n_nam)\n",
    "    traces[l] = np.append(traces[l], to_app, axis = 1)\n",
    "# MATKL\n",
    "for l in range(len(traces)):\n",
    "    to_app = np.array([[matkl[l]] * len(traces[l])]).reshape(len(traces[l]), n_mag)\n",
    "    traces[l] = np.append(traces[l], to_app, axis = 1)\n",
    "# MATNR\n",
    "for l in range(len(traces)):\n",
    "    to_app = np.array([[matnr[l]] * len(traces[l])]).reshape(len(traces[l]), n_mat)\n",
    "    traces[l] = np.append(traces[l], to_app, axis = 1)\n",
    "# TIME\n",
    "for l in range(len(traces)):\n",
    "    to_app = diff_time[l].reshape(len(traces[l]),1)\n",
    "    traces[l] = np.append(traces[l], to_app, axis = 1)\n",
    "# MAVP\n",
    "for l in range(len(traces)):\n",
    "    to_app = np.array([[mavp[l]] * len(traces[l])]).reshape(len(traces[l]), 1)\n",
    "    traces[l] = np.append(traces[l], to_app, axis = 1)\n",
    "# TWMS\n",
    "for l in range(len(traces)):\n",
    "    to_app = np.array([[twms[l]] * len(traces[l])]).reshape(len(traces[l]), 1)\n",
    "    traces[l] = np.append(traces[l], to_app, axis = 1)\n",
    "# LATES\n",
    "for l in range(len(traces)):\n",
    "    to_app = np.array([[lates[l]] * len(traces[l])]).reshape(len(traces[l]), 1)\n",
    "    traces[l] = np.append(traces[l], to_app, axis = 1)\n",
    "# LATED\n",
    "for l in range(len(traces)):\n",
    "    to_app = np.array([[lated[l]] * len(traces[l])]).reshape(len(traces[l]), 1)\n",
    "    traces[l] = np.append(traces[l], to_app, axis = 1)\n",
    "# LATEP\n",
    "for l in range(len(traces)):\n",
    "    to_app = np.array([[latep[l]] * len(traces[l])]).reshape(len(traces[l]), 1)\n",
    "    traces[l] = np.append(traces[l], to_app, axis = 1)\n",
    "# # SORTING\n",
    "# for l in range(len(traces)):\n",
    "#     to_app = sorting[l].reshape(len(traces[l]),1)\n",
    "#     traces[l] = np.append(traces[l], to_app, axis = 1)"
   ]
  },
  {
   "cell_type": "code",
   "execution_count": null,
   "metadata": {},
   "outputs": [],
   "source": [
    "# FULL TRACES\n",
    "n_zero = traces[0].shape[1]\n",
    "\n",
    "X = traces.copy()\n",
    "\n",
    "max_trace = 15\n",
    "\n",
    "for i in range(len(X)):\n",
    "    num = max_trace - len(X[i])\n",
    "    for n in range(num):\n",
    "        X[i] = np.append(X[i], [[0] * n_zero],  axis=0)\n",
    "\n",
    "X = np.array(X)"
   ]
  },
  {
   "cell_type": "code",
   "execution_count": null,
   "metadata": {},
   "outputs": [],
   "source": [
    "X_rda_train = X[:,0,n_act].reshape(-1,1)\n",
    "X_wer_train = X[:,0,n_act+1 : n_act+1+n_wer]\n",
    "X_nam_train = X[:,0,n_act+1+n_wer : n_act+1+n_wer+n_nam]\n",
    "X_mag_train = X[:,0,n_act+1+n_wer+n_nam : n_act+1+n_wer+n_nam+n_mag]\n",
    "X_mat_train = X[:,0,n_act+1+n_wer+n_nam+n_mag : n_act+1+n_wer+n_nam+n_mag+n_mat]\n",
    "X_time_train = X[:,:, n_act+1+n_wer+n_nam+n_mag+n_mat].reshape(-1,max_trace,1)\n",
    "X_train = X[:,:,:n_act]\n",
    "\n",
    "class_weights = np.load('class_weights.npy')\n",
    "loss = weighted_categorical_crossentropy(class_weights)"
   ]
  },
  {
   "attachments": {},
   "cell_type": "markdown",
   "metadata": {},
   "source": [
    "## Predictions"
   ]
  },
  {
   "cell_type": "code",
   "execution_count": null,
   "metadata": {},
   "outputs": [],
   "source": [
    "model = keras.models.load_model('model/model_1.h5', custom_objects = {'loss' : loss})\n",
    "model.summary()"
   ]
  },
  {
   "cell_type": "code",
   "execution_count": null,
   "metadata": {},
   "outputs": [],
   "source": [
    "#prova = Model([model.inputs], model.get_layer('dense_93').output)\n",
    "yhat, yhat_time, yhat_mavp, yhat_twm, yhat_lates, yhat_lated, yhat_latep = model.predict([X_train, X_time_train, X_rda_train, X_mag_train])"
   ]
  },
  {
   "cell_type": "code",
   "execution_count": null,
   "metadata": {},
   "outputs": [],
   "source": [
    "\n",
    "# prova = Model([model.inputs], model.get_layer('dense_97').output)\n",
    "# yhat_lates = prova.predict([X_train, X_time_train,X_rda_train, X_wer_train, X_nam_train,X_mag_train, X_mat_train])\n",
    "# yhat_lates = temperature_scaling_bin(yhat_lates, 1)\n",
    "\n",
    "# prova = Model([model.inputs], model.get_layer('dense_98').output)\n",
    "# yhat_lated = prova.predict([X_train, X_time_train,X_rda_train, X_wer_train, X_nam_train,X_mag_train, X_mat_train])\n",
    "# yhat_lated = temperature_scaling_bin(yhat_lated, 1)\n",
    "\n",
    "# prova = Model([model.inputs], model.get_layer('dense_99').output)\n",
    "# yhat_latep = prova.predict([X_train, X_time_train,X_rda_train, X_wer_train, X_nam_train,X_mag_train, X_mat_train])\n",
    "# yhat_latep = temperature_scaling_bin(yhat_latep, 1)\n",
    "\n",
    "# _, yhat_time, _, _,_,_ = model.predict([X_train, X_time_train,X_rda_train, X_wer_train, X_nam_train,X_mag_train, X_mat_train])\n",
    "# days = sc.inverse_transform(yhat_time)\n",
    "\n",
    "# prova = Model([model.inputs], model.get_layer('dense_95').output)\n",
    "# yhat_mavp = prova.predict([X_train, X_time_train,X_rda_train, X_wer_train, X_nam_train,X_mag_train, X_mat_train])\n",
    "# yhat_mavp = temperature_scaling_bin(yhat_mavp, 1)"
   ]
  },
  {
   "cell_type": "code",
   "execution_count": null,
   "metadata": {},
   "outputs": [],
   "source": [
    "days = sc.inverse_transform(yhat_time)"
   ]
  },
  {
   "cell_type": "code",
   "execution_count": null,
   "metadata": {},
   "outputs": [],
   "source": [
    "onehot_encoder_act.inverse_transform(np.identity(n_act))[:,0]"
   ]
  },
  {
   "cell_type": "code",
   "execution_count": null,
   "metadata": {},
   "outputs": [],
   "source": [
    "df_anom = pd.DataFrame({'Maverick Purchase': np.round(yhat_mavp * 100, 1).reshape(-1),\n",
    "                        '3-Way-Mismatch': np.round(yhat_twm * 100, 1).reshape(-1),\n",
    "                        'Late Shipment': np.round(yhat_lates * 100, 1).reshape(-1),\n",
    "                        'Late Delivery': np.round(yhat_lated * 100, 1).reshape(-1),\n",
    "                        'Late Payment': np.round(yhat_latep* 100, 1).reshape(-1),\n",
    "                        })\n",
    "# df_lates = pd.DataFrame(np.round(yhat_lates), columns = ['Next activity time (days)'])\n",
    "df_anom = df_anom.astype(float).round(2)\n",
    "df_anom['WERKS'] = df['case:concept:name'].str[:4]\n",
    "df_anom['EBELN'] = df['case:concept:name'].str[5:12]\n",
    "df_anom['EBELP'] = df['case:concept:name'].str[13:]\n",
    "df_anom = df_anom[['WERKS', 'EBELN', 'EBELP', 'Maverick Purchase' , '3-Way-Mismatch', 'Late Shipment' ,'Late Delivery', 'Late Payment' ]]"
   ]
  },
  {
   "cell_type": "code",
   "execution_count": null,
   "metadata": {},
   "outputs": [],
   "source": [
    "df_act = pd.DataFrame(np.round(yhat * 100, 1), columns = onehot_encoder_act.inverse_transform(np.identity(n_act))[:,0])\n",
    "df_time = pd.DataFrame(np.round(days), columns = ['Next activity time (days)'])\n",
    "df_pred = df_act.join(df_time).astype(float).round(2)\n",
    "df_pred['WERKS'] = df['case:concept:name'].str[:4]\n",
    "df_pred['EBELN'] = df['case:concept:name'].str[5:12]\n",
    "df_pred['EBELP'] = df['case:concept:name'].str[13:]\n",
    "df_pred = df_pred[['WERKS', 'EBELN', 'EBELP', 'Next activity time (days)', 'Change Price', 'Change Quantity',\n",
    "       'Purchase Requisition Item: Rejected', 'Purchase Order Item: Rejected', 'Set Payment Block' ]]\n",
    "df_pred"
   ]
  },
  {
   "cell_type": "code",
   "execution_count": null,
   "metadata": {},
   "outputs": [],
   "source": [
    "data_pool.create_table(df=df_pred, table_name=\"PRED\", drop_if_exists=True, force = True)\n",
    "data_pool.create_table(df=df_anom, table_name=\"ANOM\", drop_if_exists=True, force = True)"
   ]
  }
 ],
 "metadata": {
  "kernelspec": {
   "display_name": "Python 3",
   "language": "python",
   "name": "python3"
  },
  "language_info": {
   "codemirror_mode": {
    "name": "ipython",
    "version": 3
   },
   "file_extension": ".py",
   "mimetype": "text/x-python",
   "name": "python",
   "nbconvert_exporter": "python",
   "pygments_lexer": "ipython3",
   "version": "3.9.13"
  },
  "orig_nbformat": 4
 },
 "nbformat": 4,
 "nbformat_minor": 2
}
